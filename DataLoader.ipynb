{
 "cells": [
  {
   "cell_type": "code",
   "execution_count": 1,
   "metadata": {},
   "outputs": [],
   "source": [
    "import torch\n",
    "import torchvision\n",
    "import torchvision.transforms as transforms\n",
    "import numpy as np\n",
    "import os\n",
    "\n",
    "def get_data_loader(data_dir, batch_size=256, shuffle=True, train_split=0.8):\n",
    "    \"\"\"\n",
    "    Define the way we compose the batch dataset including the augmentation for increasing the number of data\n",
    "    and return the augmented batch-dataset\n",
    "    :param data_dir: root directory where the dataset is\n",
    "    :param batch_size: size of the batch\n",
    "    :param train: true if current phase is training, else false\n",
    "    :param train_split: percentage of data to be used for training\n",
    "    :return: augmented batch dataset\n",
    "    \"\"\"\n",
    "\n",
    "    # Define transformations\n",
    "    transform = transforms.Compose([\n",
    "        transforms.Resize([224, 224]),  # Resizing the image as the VGG only takes 224 x 224 as input size\n",
    "        transforms.RandomHorizontalFlip(),  # Flip the data horizontally\n",
    "        # TODO: Add random crop if needed\n",
    "        transforms.ToTensor(),\n",
    "        transforms.Normalize(mean=(0.5, 0.5, 0.5), std=(0.5, 0.5, 0.5))\n",
    "    ])\n",
    "\n",
    "    # Load dataset\n",
    "    full_dataset = torchvision.datasets.ImageFolder(root=data_dir, transform=transform)\n",
    "\n",
    "    # Calculate sizes of train and test sets\n",
    "    train_size = int(train_split * len(full_dataset))\n",
    "    test_size = len(full_dataset) - train_size\n",
    "\n",
    "    # Split dataset into train and test sets\n",
    "    train_dataset, test_dataset = torch.utils.data.random_split(full_dataset, [train_size, test_size])\n",
    "\n",
    "\n",
    "    # Create data loader\n",
    "    train_dataset_loader = torch.utils.data.DataLoader(dataset=train_dataset, batch_size=batch_size, shuffle=shuffle, num_workers=4)\n",
    "    test_dataset_loader = torch.utils.data.DataLoader(dataset=test_dataset, batch_size=batch_size, shuffle=shuffle, num_workers=4)\n",
    "\n",
    "    return train_dataset_loader, test_dataset_loader"
   ]
  },
  {
   "cell_type": "code",
   "execution_count": 2,
   "metadata": {},
   "outputs": [
    {
     "data": {
      "text/plain": [
       "19"
      ]
     },
     "execution_count": 2,
     "metadata": {},
     "output_type": "execute_result"
    }
   ],
   "source": [
    "train_data_loader,test_data_loader = get_data_loader(data_dir=\"Data/\", shuffle=True)\n",
    "\n",
    "len(train_data_loader)"
   ]
  },
  {
   "cell_type": "code",
   "execution_count": null,
   "metadata": {},
   "outputs": [],
   "source": [
    "for i in range(1):\n",
    "    batch_x, batch_y = next(iter(train_data_loader))\n",
    "    print(np.shape(batch_x), batch_y)"
   ]
  }
 ],
 "metadata": {
  "kernelspec": {
   "display_name": "Python 3",
   "language": "python",
   "name": "python3"
  },
  "language_info": {
   "codemirror_mode": {
    "name": "ipython",
    "version": 3
   },
   "file_extension": ".py",
   "mimetype": "text/x-python",
   "name": "python",
   "nbconvert_exporter": "python",
   "pygments_lexer": "ipython3",
   "version": "3.11.7"
  },
  "orig_nbformat": 4
 },
 "nbformat": 4,
 "nbformat_minor": 2
}
